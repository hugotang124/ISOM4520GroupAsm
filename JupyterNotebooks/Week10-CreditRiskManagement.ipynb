{
 "cells": [
  {
   "cell_type": "code",
   "execution_count": 12,
   "metadata": {},
   "outputs": [
    {
     "name": "stdout",
     "output_type": "stream",
     "text": [
      "0.092\n"
     ]
    }
   ],
   "source": [
    "import numpy as np\n",
    "from scipy.stats import norm\n",
    "\n",
    "# Example 1:\n",
    "coupon = 100\n",
    "notional = 2500\n",
    "current_price = 2000\n",
    "years = 5\n",
    "rate = 0.05\n",
    "\n",
    "def bond_price(coupon, notional, years, rate):\n",
    "    v0 = 0\n",
    "    for i in range(1, years+1):\n",
    "        v0 += coupon / ((1 + rate) ** i)\n",
    "    v0 += notional / ((1 + rate) ** years)\n",
    "\n",
    "    return v0\n",
    "\n",
    "diff = np.inf\n",
    "for i in range(1000):\n",
    "    rate = i / 1000\n",
    "    price = bond_price(coupon, notional, years, rate)\n",
    "\n",
    "    if abs(price - current_price) < diff:\n",
    "        diff = abs(price - current_price)\n",
    "        best_rate = rate\n",
    "\n",
    "print (best_rate)"
   ]
  },
  {
   "cell_type": "code",
   "execution_count": 13,
   "metadata": {},
   "outputs": [
    {
     "name": "stdout",
     "output_type": "stream",
     "text": [
      "0.09161376953125\n"
     ]
    }
   ],
   "source": [
    "# Solution 2: Bisection method\n",
    "first_val = 0\n",
    "second_val = 1\n",
    "\n",
    "price1 = bond_price(coupon, notional, years, first_val)\n",
    "price2 = bond_price(coupon, notional, years, second_val)\n",
    "\n",
    "\n",
    "while abs(first_val - second_val) > 0.0001:\n",
    "    rate = (first_val + second_val) / 2\n",
    "    price = bond_price(coupon, notional, years, rate)\n",
    "\n",
    "    if (price - current_price) > 0:\n",
    "        first_val = rate\n",
    "\n",
    "    else:\n",
    "        second_val = rate\n",
    "\n",
    "print (rate)"
   ]
  },
  {
   "cell_type": "code",
   "execution_count": 21,
   "metadata": {},
   "outputs": [
    {
     "name": "stdout",
     "output_type": "stream",
     "text": [
      "0.0578 0.0878 0.8544\n"
     ]
    }
   ],
   "source": [
    "# Example 2:\n",
    "default_prob_bond1 = 0.1\n",
    "default_prob_bond2 = 0.1\n",
    "\n",
    "correlation = 0.8\n",
    "corr_matrix = np.array([[1, correlation], [correlation, 1]])\n",
    "\n",
    "cholesky = np.linalg.cholesky(corr_matrix)\n",
    "\n",
    "\n",
    "both_defaults = 0\n",
    "one_default = 0\n",
    "no_defaults = 0\n",
    "N = 10000\n",
    "# Use MC and random sampling, generate 1000 samples\n",
    "for i in range(N):\n",
    "    z1 = np.random.normal(0, 1)\n",
    "    z2 = np.random.normal(0, 1)\n",
    "\n",
    "    x1 = z1\n",
    "    x2 = cholesky[1, 0] * z1 + cholesky[1, 1] * z2\n",
    "\n",
    "    # Find the CDF of the normal distribution for the default probability\n",
    "    \n",
    "    p1 = (norm.cdf(x1) <= default_prob_bond1).astype(int)\n",
    "    p2 = (norm.cdf(x2) <= default_prob_bond2).astype(int)\n",
    "\n",
    "    if p1 == 1 and p2 == 1:\n",
    "        both_defaults += 1\n",
    "\n",
    "    elif p1 == 1 or p2 == 1:\n",
    "        one_default += 1\n",
    "\n",
    "    else:\n",
    "        no_defaults += 1\n",
    "\n",
    "print (both_defaults/N, one_default/N, no_defaults/N)\n"
   ]
  }
 ],
 "metadata": {
  "kernelspec": {
   "display_name": "Python 3",
   "language": "python",
   "name": "python3"
  },
  "language_info": {
   "codemirror_mode": {
    "name": "ipython",
    "version": 3
   },
   "file_extension": ".py",
   "mimetype": "text/x-python",
   "name": "python",
   "nbconvert_exporter": "python",
   "pygments_lexer": "ipython3",
   "version": "3.10.12"
  }
 },
 "nbformat": 4,
 "nbformat_minor": 2
}
