{
 "cells": [
  {
   "cell_type": "code",
   "execution_count": 126,
   "metadata": {},
   "outputs": [],
   "source": [
    "import numpy as np\n",
    "import pandas as pd\n",
    "import matplotlib.pyplot as plt\n",
    "import os\n",
    "import yfinance as yf\n",
    "from datetime import datetime, timedelta"
   ]
  },
  {
   "attachments": {},
   "cell_type": "markdown",
   "metadata": {},
   "source": [
    "### Data Download"
   ]
  },
  {
   "cell_type": "code",
   "execution_count": 127,
   "metadata": {},
   "outputs": [],
   "source": [
    "# load data\n",
    "# Download data from Yahoo Finance\n",
    "tickers = ['AAPL', 'AMZN', 'TSLA', 'JNJ', 'COP', 'KO', 'JPM', 'NVDA' ,'UNH', 'PG']\n",
    "\n",
    "end_date = datetime.now() - timedelta(days = 1)\n",
    "start_date = end_date - timedelta(days = 5 * 365)\n",
    "\n",
    "folder = 'AssignmentData'\n",
    "if not os.path.exists(folder):\n",
    "    os.mkdir(folder)\n",
    "\n",
    "holder = {}\n",
    "for ticker in tickers:\n",
    "\n",
    "    file_name = f'{folder}/{ticker}.csv'\n",
    "    if not os.path.exists(file_name):\n",
    "        df = yf.Ticker(ticker).history(start = start_date.strftime(\"%Y-%m-%d\"), end = end_date.strftime(\"%Y-%m-%d\"))\n",
    "        df.to_csv(file_name)\n",
    "\n",
    "    df = pd.read_csv(file_name, index_col=0)\n",
    "    df.index = pd.to_datetime(df.index, utc=True)\n",
    "    df.index = df.index.tz_convert('US/Eastern')\n",
    "\n",
    "    holder[ticker] = df"
   ]
  },
  {
   "attachments": {},
   "cell_type": "markdown",
   "metadata": {},
   "source": [
    "### Data Preprocessing"
   ]
  },
  {
   "cell_type": "code",
   "execution_count": 155,
   "metadata": {},
   "outputs": [],
   "source": [
    "from sklearn.preprocessing import StandardScaler\n",
    "log_returns = {}\n",
    "for ticker, data in holder.items():\n",
    "    log_return = np.log(data.Close / data.Close.shift(1)).dropna()\n",
    "    standard_returns = log_return / log_return.rolling(252).std()\n",
    "    log_returns[ticker] = {\n",
    "                            \"log_returns\": log_return,\n",
    "                            \"std_returns\": standard_returns.dropna()\n",
    "                          }\n"
   ]
  },
  {
   "attachments": {},
   "cell_type": "markdown",
   "metadata": {},
   "source": [
    "### Filtered Historical Simulation"
   ]
  },
  {
   "cell_type": "code",
   "execution_count": 159,
   "metadata": {},
   "outputs": [
    {
     "name": "stdout",
     "output_type": "stream",
     "text": [
      "AAPL VaR at 5%: -0.8247630186530122%\n",
      "AMZN VaR at 5%: -1.3725190695491867%\n",
      "TSLA VaR at 5%: -2.0532099781859037%\n",
      "JNJ VaR at 5%: -1.2384402495487101%\n",
      "COP VaR at 5%: -0.4024215232570128%\n",
      "KO VaR at 5%: -0.9977640184181414%\n",
      "JPM VaR at 5%: -2.250844011709054%\n",
      "NVDA VaR at 5%: -2.3099754167348943%\n",
      "UNH VaR at 5%: -2.0352092406867985%\n",
      "PG VaR at 5%: -2.1412577565449475%\n"
     ]
    }
   ],
   "source": [
    "from arch import arch_model\n",
    "conf_interval = 5\n",
    "stock_vars = {}\n",
    "\n",
    "for ticker, log_data in log_returns.items():\n",
    "    log_return, std_return = log_data.values()\n",
    "    model = arch_model(log_return * 100, vol = 'Garch', p = 1, q = 1)\n",
    "    model_fit = model.fit(disp='off')\n",
    "    omega, alpha, beta = model_fit.params[1:]\n",
    "    next_day_std = (omega + alpha * log_return.iloc[-1]**2 + beta * std_return.iloc[-1]**2)**0.5\n",
    "    \n",
    "    # Randomly select 5000 standardized returns from the historical z-scores\n",
    "    random_selection = np.random.choice(std_return, 10000)\n",
    "    \n",
    "    # Forecasts of the returns\n",
    "    forecasts = next_day_std * random_selection\n",
    "\n",
    "    var = np.percentile(forecasts, conf_interval)\n",
    "    stock_vars[ticker] = var\n",
    "    \n",
    "    print(f\"{ticker} VaR at {conf_interval}%: {var}%\")\n",
    "\n"
   ]
  },
  {
   "cell_type": "markdown",
   "metadata": {},
   "source": []
  },
  {
   "attachments": {},
   "cell_type": "markdown",
   "metadata": {},
   "source": [
    "### Cornish-Fisher Expansion"
   ]
  },
  {
   "cell_type": "code",
   "execution_count": 161,
   "metadata": {},
   "outputs": [
    {
     "name": "stdout",
     "output_type": "stream",
     "text": [
      "AAPL CF-VaR at 5%: -0.9117873329342351%\n",
      "AMZN CF-VaR at 5%: -1.2377948530037945%\n",
      "TSLA CF-VaR at 5%: -2.053445008439621%\n",
      "JNJ CF-VaR at 5%: -1.1541723010767764%\n",
      "COP CF-VaR at 5%: -0.4361577852578613%\n",
      "KO CF-VaR at 5%: -0.8021261939421721%\n",
      "JPM CF-VaR at 5%: -2.5958813657572324%\n",
      "NVDA CF-VaR at 5%: -1.9073278938023068%\n",
      "UNH CF-VaR at 5%: -2.1219693562344784%\n",
      "PG CF-VaR at 5%: -2.554544434003965%\n"
     ]
    }
   ],
   "source": [
    "from scipy.stats import skew, kurtosis\n",
    "cf_stock_vars = {}\n",
    "for ticker, stock_var in stock_vars.items():\n",
    "    std_return = log_returns[ticker]['std_returns']\n",
    "    skewness = skew(std_return)\n",
    "    excess_kurt = kurtosis(std_return) - 3\n",
    "    cornish_fisher_var = stock_var + skewness / 6 * (stock_var ** 2 - 1) + \\\n",
    "                         excess_kurt / 24 * (stock_var ** 3 - 3 * stock_var) - \\\n",
    "                         skewness ** 2 / 36 * (2 * stock_var ** 3 - 5 * stock_var)\n",
    "    cf_stock_vars[ticker] = cornish_fisher_var\n",
    "    print(f\"{ticker} CF-VaR at {conf_interval}%: {cornish_fisher_var}%\")"
   ]
  },
  {
   "attachments": {},
   "cell_type": "markdown",
   "metadata": {},
   "source": [
    "### Equal Weighted Portfolio"
   ]
  },
  {
   "cell_type": "code",
   "execution_count": 178,
   "metadata": {},
   "outputs": [],
   "source": [
    "stock_returns = list(map(lambda x: x['log_returns'], log_returns.values()))\n",
    "stock_returns = pd.concat(stock_returns, axis = 1)\n",
    "stock_returns.columns = tickers\n",
    "portfolio_returns = stock_returns.mean(axis = 1)\n",
    "portfolio_std_returns = portfolio_returns / portfolio_returns.rolling(252).std().dropna()\n",
    "portfolio_std_returns.dropna(inplace = True)\n"
   ]
  },
  {
   "cell_type": "code",
   "execution_count": 182,
   "metadata": {},
   "outputs": [
    {
     "name": "stdout",
     "output_type": "stream",
     "text": [
      "Portfolio 5% VaR: -1.0908711749717688%\n",
      "Portfolio 5% CF-VaR: -0.9939934805930248%\n"
     ]
    }
   ],
   "source": [
    "model = arch_model(portfolio_returns * 100, vol = 'Garch', p = 1, q = 1)\n",
    "model_fit = model.fit(disp='off')\n",
    "omega, alpha, beta = model_fit.params[1:]\n",
    "next_day_std = (omega + alpha * portfolio_returns.iloc[-1]**2 + beta * portfolio_std_returns.iloc[-1]**2)**0.5\n",
    "    \n",
    "# Randomly select 5000 standardized returns from the historical z-scores\n",
    "random_selection = np.random.choice(portfolio_std_returns, 10000)\n",
    "    \n",
    "# Forecasts of the returns\n",
    "forecasts = next_day_std * random_selection\n",
    "\n",
    "ptf_var = np.percentile(forecasts, conf_interval)\n",
    "print(f\"Portfolio {conf_interval}% VaR: {var}%\")\n",
    "\n",
    "\n",
    "skewness = skew(std_return)\n",
    "excess_kurt = kurtosis(std_return) - 3\n",
    "ptf_cornish_fisher_var = ptf_var + skewness / 6 * (ptf_var ** 2 - 1) + \\\n",
    "                     excess_kurt / 24 * (ptf_var ** 3 - 3 * ptf_var) - \\\n",
    "                     skewness ** 2 / 36 * (2 * ptf_var ** 3 - 5 * ptf_var)\n",
    "\n",
    "print(f\"Portfolio {conf_interval}% CF-VaR: {ptf_cornish_fisher_var}%\")"
   ]
  },
  {
   "attachments": {},
   "cell_type": "markdown",
   "metadata": {},
   "source": [
    "### Comparison"
   ]
  },
  {
   "cell_type": "code",
   "execution_count": 188,
   "metadata": {},
   "outputs": [
    {
     "name": "stdout",
     "output_type": "stream",
     "text": [
      "VaR under historical data assumption: -2.141894374907534%\n",
      "VaR under historical data assumption: -2.3026940459658576%\n"
     ]
    }
   ],
   "source": [
    "historical_ptf_var = np.percentile(portfolio_returns, conf_interval)\n",
    "print(f\"VaR under historical data assumption: {historical_ptf_var * 100}%\")\n",
    "\n",
    "mean_ptf_returns = portfolio_returns.mean()\n",
    "std_ptf_returns = portfolio_returns.std()\n",
    "num_samples = 10000\n",
    "\n",
    "samples = np.random.normal(mean_ptf_returns, std_ptf_returns, num_samples)\n",
    "norm_ptf_var = np.percentile(samples, conf_interval)\n",
    "\n",
    "print(f\"VaR under normal data assumption: {norm_ptf_var * 100}%\")\n",
    "\n"
   ]
  },
  {
   "cell_type": "code",
   "execution_count": null,
   "metadata": {},
   "outputs": [],
   "source": []
  }
 ],
 "metadata": {
  "kernelspec": {
   "display_name": "Python 3",
   "language": "python",
   "name": "python3"
  },
  "language_info": {
   "codemirror_mode": {
    "name": "ipython",
    "version": 3
   },
   "file_extension": ".py",
   "mimetype": "text/x-python",
   "name": "python",
   "nbconvert_exporter": "python",
   "pygments_lexer": "ipython3",
   "version": "3.12.0"
  },
  "orig_nbformat": 4
 },
 "nbformat": 4,
 "nbformat_minor": 2
}
